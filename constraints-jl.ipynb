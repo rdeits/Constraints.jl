{
 "cells": [
  {
   "cell_type": "code",
   "execution_count": 60,
   "metadata": {
    "collapsed": false
   },
   "outputs": [
    {
     "name": "stderr",
     "output_type": "stream",
     "text": [
      "WARNING: replacing module Constraints\n"
     ]
    }
   ],
   "source": [
    "module Constraints\n",
    "\n",
    "import Base: getindex, \n",
    "setindex!, \n",
    "convert,\n",
    "==, <, <=, >, >=, +, -, *, /,\n",
    "size, length \n",
    "\n",
    "import DataStructures: OrderedDict\n",
    "\n",
    "abstract Sealed\n",
    "\n",
    "type SealedScalar{T} <: Sealed\n",
    "    data::T\n",
    "    touched::Bool\n",
    "end\n",
    "\n",
    "for op in [==, <, <=, >, >=, +, -, *, /]\n",
    "    op(s::SealedScalar, x::Number) = (s.touched = true; op(s.data, x))\n",
    "    op(x::Number, s::SealedScalar) = (s.touched = true; op(s.data, x))\n",
    "end\n",
    "\n",
    "type SealedArray{T,N} <: Sealed\n",
    "    data::Array{T,N}\n",
    "    touched::Array{Bool,N}\n",
    "end\n",
    "\n",
    "function SealedArray{T,N}(data::Array{T,N})\n",
    "    touched = falses(size(data)...)\n",
    "    SealedArray{T,N}(data, touched)\n",
    "end\n",
    "\n",
    "function getindex{T,N}(s::SealedArray{T,N}, key...)\n",
    "    s.touched[key...] = true\n",
    "    s.data[key...]\n",
    "end\n",
    "\n",
    "function setindex!{T,N}(s::SealedArray{T,N}, value, key...)\n",
    "    s.data[key...] = value\n",
    "end\n",
    "\n",
    "function seal!(s::SealedArray)\n",
    "    s.touched[:] = false\n",
    "end\n",
    "\n",
    "for op in [size, length]\n",
    "    op(s::SealedArray) = op(s.data)\n",
    "end\n",
    "\n",
    "type Constraint\n",
    "    vars::Vector{Symbol}\n",
    "    func::Function\n",
    "end\n",
    "\n",
    "immutable Domain\n",
    "    lower::Array{Int}\n",
    "    upper::Array{Int}\n",
    "end\n",
    "\n",
    "immutable Variable\n",
    "    name::Symbol\n",
    "    domain::Domain\n",
    "end\n",
    "\n",
    "length(v::Variable) = length(v.domain.lower)\n",
    "\n",
    "type Problem\n",
    "    vars::Vector{Variable}\n",
    "    constraints::Vector{Constraint}\n",
    "end\n",
    "\n",
    "function Problem()\n",
    "    Problem(Variable[], Constraint[])\n",
    "end\n",
    "\n",
    "function addVariable!(p::Problem, name::Symbol, lower::Array{Int}, upper::Array{Int})\n",
    "    @assert length(upper) == length(lower)\n",
    "    upper = reshape(upper, size(lower))\n",
    "    push!(p.vars, Variable(name, Domain(lower, upper)))\n",
    "end\n",
    " \n",
    "function addConstraint!(p::Problem, vars::Vector{Symbol}, func::Function)\n",
    "    push!(p.constraints, Constraint(vars, func))\n",
    "end\n",
    "    \n",
    "typealias PotentialSolution OrderedDict{Symbol, SealedArray}\n",
    "typealias Solution Dict{Symbol, Array}\n",
    "\n",
    "function collect_domains(vars::Vector{Variable})\n",
    "    total_vars = sum([length(v) for v in vars])\n",
    "    min = Array(Int, total_vars)\n",
    "    max = Array(Int, total_vars)\n",
    "    offset = 0\n",
    "    for v in vars\n",
    "        numvar = length(v)\n",
    "        min[offset+(1:numvar)] = v.domain.lower[:]\n",
    "        max[offset+(1:numvar)] = v.domain.upper[:]\n",
    "        offset += numvar\n",
    "    end\n",
    "    min, max\n",
    "end\n",
    "\n",
    "function min_solution(vars::Vector{Variable})\n",
    "    PotentialSolution(zip([v.name for v in vars],\n",
    "    [SealedArray(copy(v.domain.lower)) for v in vars]))\n",
    "end\n",
    "    \n",
    "function increment!(potential_solution::PotentialSolution, increment_index::Integer, min::Vector{Int}, max::Vector{Int})\n",
    "     for i = 1:increment_index-1\n",
    "        potential_solution[i] = min[i]\n",
    "    end\n",
    "    potential_solution[increment_index] += 1\n",
    "    for i = increment_index:length(min)-1\n",
    "        if potential_solution[i] > max[i]\n",
    "            potential_solution[i] = 0\n",
    "            potential_solution[i+1] += 1\n",
    "        end\n",
    "    end\n",
    "end\n",
    "\n",
    "function solve(prob::Problem, max_solutions=Inf)\n",
    "    min, max = collect_domains(prob.vars)\n",
    "    @assert length(min) == length(max)\n",
    "    numvar = length(min)\n",
    "    touched = Array(Bool, numvar)\n",
    "    potential_solution = min_solution(prob.vars)\n",
    "    solutions = Solution[]\n",
    "    num_satisfied_constraints = 0\n",
    "    finished = false\n",
    "    increment_index = 0\n",
    "    num_nodes_explored = 1\n",
    "    \n",
    "    while length(solutions) < max_solutions && !finished\n",
    "        for constraint in prob.constraints\n",
    "#             @show potential_solution[:x].data\n",
    "            seal!(potential_solution)\n",
    "            if constraint.func([potential_solution[v] for v in constraint.vars]...)\n",
    "                num_satisfied_constraints += 1\n",
    "                if num_satisfied_constraints == length(prob.constraints)\n",
    "                    push!(solutions, extract_solution(potential_solution))\n",
    "                    increment_index = 1\n",
    "                else\n",
    "                    increment_index = 0\n",
    "                end\n",
    "            else\n",
    "                num_satisfied_constraints = 0\n",
    "                check_seals!(touched, potential_solution)\n",
    "                increment_index = findfirst(touched)\n",
    "            end\n",
    "            if increment_index > 0\n",
    "                increment!(potential_solution, increment_index, min, max)\n",
    "                if potential_solution[numvar] > max[numvar]\n",
    "                    finished = true\n",
    "                    break\n",
    "                end\n",
    "                num_nodes_explored += 1\n",
    "            end\n",
    "        end\n",
    "    end\n",
    "    @show num_nodes_explored\n",
    "    solutions\n",
    "end\n",
    "    \n",
    "seal!(potential::PotentialSolution) = map(seal!, values(potential))\n",
    "\n",
    "\n",
    "# function addVariable!(prob::Problem, name::Symbol, lower, upper)\n",
    "    \n",
    "    \n",
    "    \n",
    "function check_seals!(touched::Vector{Bool}, potential::PotentialSolution)\n",
    "    offset = 0\n",
    "    for (k, v) in potential\n",
    "        numel = length(v.touched)\n",
    "        for j = 1:numel\n",
    "            touched[offset+j] = v.touched[j]\n",
    "        end\n",
    "        offset += numel\n",
    "    end\n",
    "end\n",
    "\n",
    "function extract_solution(solution::OrderedDict{Symbol, SealedArray})\n",
    "    result = Dict(zip(keys(solution), map(v -> copy(v.data), values(solution))))\n",
    "end\n",
    "        \n",
    "function getindex(solution::PotentialSolution, index::Number)\n",
    "    offset = 0\n",
    "    for (k, v) in solution\n",
    "        numel = length(v)\n",
    "        if index <= offset + numel\n",
    "            return v[index - offset]\n",
    "        end\n",
    "        offset += numel\n",
    "    end\n",
    "end\n",
    "\n",
    "function setindex!(solution::OrderedDict{Symbol, SealedArray}, value, index::Number)\n",
    "    offset = 0\n",
    "    for (k, v) in solution\n",
    "        numel = length(v)\n",
    "        if index <= offset + numel\n",
    "            v[index - offset] = value\n",
    "            break\n",
    "        end\n",
    "        offset += numel\n",
    "    end\n",
    "end\n",
    "\n",
    "\n",
    "# type SealedDict{T,N}\n",
    "\n",
    "# type Seal{T}\n",
    "#     data::T\n",
    "#     touched\n",
    "# end\n",
    "\n",
    "# num_vars(s::Seal) = num\n",
    "\n",
    "# function Seal{T}(data::T)\n",
    "#     Seal(data, false)\n",
    "# end\n",
    "\n",
    "# function getindex(s::Seal, key...)\n",
    "#     s.touched = true\n",
    "#     getindex(s.data, key...)\n",
    "# end\n",
    "    \n",
    "end\n",
    "\n",
    "import Constraints"
   ]
  },
  {
   "cell_type": "code",
   "execution_count": 63,
   "metadata": {
    "collapsed": false
   },
   "outputs": [
    {
     "data": {
      "text/plain": [
       "3-element Array{Constraints.Constraint,1}:\n",
       " Constraints.Constraint([:x],(anonymous function))\n",
       " Constraints.Constraint([:x],(anonymous function))\n",
       " Constraints.Constraint([:x],(anonymous function))"
      ]
     },
     "execution_count": 63,
     "metadata": {},
     "output_type": "execute_result"
    }
   ],
   "source": [
    "p = Constraints.Problem()\n",
    "Constraints.addVariable!(p, :x, [0, 0], [10, 10])\n",
    "Constraints.addConstraint!(p, [:x], x -> x[1] == x[2])\n",
    "Constraints.addConstraint!(p, [:x], x -> x[1] == 5)\n",
    "Constraints.addConstraint!(p, [:x], x -> x[2] == 5)"
   ]
  },
  {
   "cell_type": "code",
   "execution_count": 64,
   "metadata": {
    "collapsed": false
   },
   "outputs": [
    {
     "name": "stdout",
     "output_type": "stream",
     "text": [
      "num_nodes_explored = 38"
     ]
    },
    {
     "data": {
      "text/plain": [
       "1-element Array{Dict{Symbol,Array{T,N}},1}:\n",
       " Dict{Symbol,Array{T,N}}(:x=>[5,5])"
      ]
     },
     "execution_count": 64,
     "metadata": {},
     "output_type": "execute_result"
    },
    {
     "name": "stdout",
     "output_type": "stream",
     "text": [
      "\n",
      "  0.004737 seconds (1.07 k allocations: 49.873 KB)\n"
     ]
    }
   ],
   "source": [
    "@time solutions = Constraints.solve(p)"
   ]
  },
  {
   "cell_type": "code",
   "execution_count": null,
   "metadata": {
    "collapsed": false
   },
   "outputs": [],
   "source": [
    "y = SealedArray(reshape(Float64[0.0], ()))"
   ]
  },
  {
   "cell_type": "code",
   "execution_count": 100,
   "metadata": {
    "collapsed": false
   },
   "outputs": [
    {
     "name": "stdout",
     "output_type": "stream",
     "text": [
      "y = SealedArray{Float64,0}(1.0,false)"
     ]
    },
    {
     "data": {
      "text/plain": [
       "SealedArray{Float64,0}(0-dimensional Array{Float64,0}:\n",
       "1.0,0-dimensional Array{Bool,0}:\n",
       "true)"
      ]
     },
     "execution_count": 100,
     "metadata": {},
     "output_type": "execute_result"
    },
    {
     "name": "stdout",
     "output_type": "stream",
     "text": [
      "\n",
      "y = SealedArray{Float64,0}(1.0,true)\n"
     ]
    }
   ],
   "source": [
    "y[] = 1\n",
    "y[]\n",
    "seal!(y)\n",
    "@show y\n",
    "y[]\n",
    "@show y"
   ]
  },
  {
   "cell_type": "code",
   "execution_count": 101,
   "metadata": {
    "collapsed": false
   },
   "outputs": [
    {
     "data": {
      "text/plain": [
       "1.0"
      ]
     },
     "execution_count": 101,
     "metadata": {},
     "output_type": "execute_result"
    }
   ],
   "source": [
    "y[]"
   ]
  },
  {
   "cell_type": "code",
   "execution_count": 102,
   "metadata": {
    "collapsed": false
   },
   "outputs": [
    {
     "data": {
      "text/plain": [
       "false"
      ]
     },
     "execution_count": 102,
     "metadata": {},
     "output_type": "execute_result"
    }
   ],
   "source": [
    "y == 1"
   ]
  },
  {
   "cell_type": "code",
   "execution_count": 83,
   "metadata": {
    "collapsed": false
   },
   "outputs": [
    {
     "data": {
      "text/plain": [
       "Dict{Symbol,Int64} with 2 entries:\n",
       "  :bar => 2\n",
       "  :foo => 1"
      ]
     },
     "execution_count": 83,
     "metadata": {},
     "output_type": "execute_result"
    }
   ],
   "source": [
    "d = Dict(:foo => 1, :bar => 2)"
   ]
  },
  {
   "cell_type": "code",
   "execution_count": 84,
   "metadata": {
    "collapsed": false
   },
   "outputs": [
    {
     "data": {
      "text/plain": [
       "2"
      ]
     },
     "execution_count": 84,
     "metadata": {},
     "output_type": "execute_result"
    }
   ],
   "source": [
    "getindex(d, :bar)"
   ]
  },
  {
   "cell_type": "code",
   "execution_count": 125,
   "metadata": {
    "collapsed": false
   },
   "outputs": [
    {
     "data": {
      "text/plain": [
       "2x3 Array{Int64,2}:\n",
       " 1  2  3\n",
       " 4  5  6"
      ]
     },
     "execution_count": 125,
     "metadata": {},
     "output_type": "execute_result"
    }
   ],
   "source": [
    "a = [1 2 3; 4 5 6]"
   ]
  },
  {
   "cell_type": "code",
   "execution_count": 126,
   "metadata": {
    "collapsed": false
   },
   "outputs": [
    {
     "data": {
      "text/plain": [
       "6"
      ]
     },
     "execution_count": 126,
     "metadata": {},
     "output_type": "execute_result"
    }
   ],
   "source": [
    "length(a)"
   ]
  },
  {
   "cell_type": "code",
   "execution_count": 127,
   "metadata": {
    "collapsed": false
   },
   "outputs": [
    {
     "data": {
      "text/plain": [
       "(2,3)"
      ]
     },
     "execution_count": 127,
     "metadata": {},
     "output_type": "execute_result"
    }
   ],
   "source": [
    "size(a)"
   ]
  },
  {
   "cell_type": "code",
   "execution_count": 132,
   "metadata": {
    "collapsed": false
   },
   "outputs": [
    {
     "data": {
      "text/plain": [
       "6"
      ]
     },
     "execution_count": 132,
     "metadata": {},
     "output_type": "execute_result"
    }
   ],
   "source": [
    "a[6]"
   ]
  },
  {
   "cell_type": "code",
   "execution_count": 117,
   "metadata": {
    "collapsed": false
   },
   "outputs": [
    {
     "data": {
      "text/plain": [
       "SealedScalar{Float64}(1.0,false)"
      ]
     },
     "execution_count": 117,
     "metadata": {},
     "output_type": "execute_result"
    }
   ],
   "source": [
    "z = SealedScalar(1.0, false)"
   ]
  },
  {
   "cell_type": "code",
   "execution_count": 113,
   "metadata": {
    "collapsed": false
   },
   "outputs": [
    {
     "data": {
      "text/plain": [
       "true"
      ]
     },
     "execution_count": 113,
     "metadata": {},
     "output_type": "execute_result"
    }
   ],
   "source": [
    "z == 1"
   ]
  },
  {
   "cell_type": "code",
   "execution_count": 118,
   "metadata": {
    "collapsed": false
   },
   "outputs": [
    {
     "data": {
      "text/plain": [
       "true"
      ]
     },
     "execution_count": 118,
     "metadata": {},
     "output_type": "execute_result"
    }
   ],
   "source": [
    "z < 2"
   ]
  },
  {
   "cell_type": "code",
   "execution_count": 119,
   "metadata": {
    "collapsed": false
   },
   "outputs": [
    {
     "data": {
      "text/plain": [
       "SealedScalar{Float64}(1.0,true)"
      ]
     },
     "execution_count": 119,
     "metadata": {},
     "output_type": "execute_result"
    }
   ],
   "source": [
    "z"
   ]
  },
  {
   "cell_type": "code",
   "execution_count": 95,
   "metadata": {
    "collapsed": false
   },
   "outputs": [],
   "source": [
    "if z == 1\n",
    "    @show z\n",
    "end"
   ]
  },
  {
   "cell_type": "code",
   "execution_count": 92,
   "metadata": {
    "collapsed": false
   },
   "outputs": [
    {
     "data": {
      "text/plain": [
       "true"
      ]
     },
     "execution_count": 92,
     "metadata": {},
     "output_type": "execute_result"
    }
   ],
   "source": []
  },
  {
   "cell_type": "code",
   "execution_count": 135,
   "metadata": {
    "collapsed": false
   },
   "outputs": [
    {
     "data": {
      "text/plain": [
       "1"
      ]
     },
     "execution_count": 135,
     "metadata": {},
     "output_type": "execute_result"
    }
   ],
   "source": [
    "q = 1\n",
    "q[1]\n",
    "length(q)"
   ]
  },
  {
   "cell_type": "code",
   "execution_count": 144,
   "metadata": {
    "collapsed": false
   },
   "outputs": [
    {
     "name": "stdout",
     "output_type": "stream",
     "text": [
      "search: "
     ]
    },
    {
     "data": {
      "text/latex": [
       "\\begin{verbatim}\n",
       "findfirst(A,v)\n",
       "\\end{verbatim}\n",
       "Return the index of the first element equal to \\texttt{v} in \\texttt{A}.\n",
       "\\begin{verbatim}\n",
       "findfirst(A)\n",
       "\\end{verbatim}\n",
       "Return the index of the first non-zero value in \\texttt{A} (determined by \\texttt{A[i]!=0}).\n",
       "\\begin{verbatim}\n",
       "findfirst(predicate, A)\n",
       "\\end{verbatim}\n",
       "Return the index of the first element of \\texttt{A} for which \\texttt{predicate} returns \\texttt{true}.\n"
      ],
      "text/markdown": [
       "```\n",
       "findfirst(A,v)\n",
       "```\n",
       "\n",
       "Return the index of the first element equal to `v` in `A`.\n",
       "\n",
       "```\n",
       "findfirst(A)\n",
       "```\n",
       "\n",
       "Return the index of the first non-zero value in `A` (determined by `A[i]!=0`).\n",
       "\n",
       "```\n",
       "findfirst(predicate, A)\n",
       "```\n",
       "\n",
       "Return the index of the first element of `A` for which `predicate` returns `true`.\n"
      ],
      "text/plain": [
       "```\n",
       "findfirst(A,v)\n",
       "```\n",
       "\n",
       "Return the index of the first element equal to `v` in `A`.\n",
       "\n",
       "```\n",
       "findfirst(A)\n",
       "```\n",
       "\n",
       "Return the index of the first non-zero value in `A` (determined by `A[i]!=0`).\n",
       "\n",
       "```\n",
       "findfirst(predicate, A)\n",
       "```\n",
       "\n",
       "Return the index of the first element of `A` for which `predicate` returns `true`.\n"
      ]
     },
     "execution_count": 144,
     "metadata": {},
     "output_type": "execute_result"
    },
    {
     "name": "stdout",
     "output_type": "stream",
     "text": [
      "findfirst\n",
      "\n"
     ]
    }
   ],
   "source": [
    "?findfirst"
   ]
  },
  {
   "cell_type": "code",
   "execution_count": null,
   "metadata": {
    "collapsed": true
   },
   "outputs": [],
   "source": []
  }
 ],
 "metadata": {
  "kernelspec": {
   "display_name": "Julia 0.4.1",
   "language": "julia",
   "name": "julia-0.4"
  },
  "language_info": {
   "file_extension": ".jl",
   "mimetype": "application/julia",
   "name": "julia",
   "version": "0.4.1"
  }
 },
 "nbformat": 4,
 "nbformat_minor": 0
}
